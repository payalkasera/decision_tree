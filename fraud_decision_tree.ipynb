{
 "cells": [
  {
   "cell_type": "code",
   "execution_count": 1,
   "id": "628a27c8",
   "metadata": {
    "ExecuteTime": {
     "end_time": "2022-05-30T13:51:07.278362Z",
     "start_time": "2022-05-30T13:51:05.233201Z"
    }
   },
   "outputs": [],
   "source": [
    "import pandas as pd\n",
    "from sklearn import preprocessing\n",
    "from sklearn.model_selection import train_test_split\n",
    "from sklearn.tree import DecisionTreeClassifier\n",
    "from sklearn import tree\n",
    "import matplotlib.pyplot as plt\n",
    "import numpy as np"
   ]
  },
  {
   "cell_type": "code",
   "execution_count": 2,
   "id": "d0e91751",
   "metadata": {
    "ExecuteTime": {
     "end_time": "2022-05-30T13:51:07.326729Z",
     "start_time": "2022-05-30T13:51:07.279104Z"
    }
   },
   "outputs": [
    {
     "data": {
      "text/html": [
       "<div>\n",
       "<style scoped>\n",
       "    .dataframe tbody tr th:only-of-type {\n",
       "        vertical-align: middle;\n",
       "    }\n",
       "\n",
       "    .dataframe tbody tr th {\n",
       "        vertical-align: top;\n",
       "    }\n",
       "\n",
       "    .dataframe thead th {\n",
       "        text-align: right;\n",
       "    }\n",
       "</style>\n",
       "<table border=\"1\" class=\"dataframe\">\n",
       "  <thead>\n",
       "    <tr style=\"text-align: right;\">\n",
       "      <th></th>\n",
       "      <th>Marital.Status</th>\n",
       "      <th>Taxable.Income</th>\n",
       "      <th>City.Population</th>\n",
       "      <th>Work.Experience</th>\n",
       "      <th>Urban</th>\n",
       "    </tr>\n",
       "    <tr>\n",
       "      <th>Undergrad</th>\n",
       "      <th></th>\n",
       "      <th></th>\n",
       "      <th></th>\n",
       "      <th></th>\n",
       "      <th></th>\n",
       "    </tr>\n",
       "  </thead>\n",
       "  <tbody>\n",
       "    <tr>\n",
       "      <th>NO</th>\n",
       "      <td>Single</td>\n",
       "      <td>68833</td>\n",
       "      <td>50047</td>\n",
       "      <td>10</td>\n",
       "      <td>YES</td>\n",
       "    </tr>\n",
       "    <tr>\n",
       "      <th>YES</th>\n",
       "      <td>Divorced</td>\n",
       "      <td>33700</td>\n",
       "      <td>134075</td>\n",
       "      <td>18</td>\n",
       "      <td>YES</td>\n",
       "    </tr>\n",
       "    <tr>\n",
       "      <th>NO</th>\n",
       "      <td>Married</td>\n",
       "      <td>36925</td>\n",
       "      <td>160205</td>\n",
       "      <td>30</td>\n",
       "      <td>YES</td>\n",
       "    </tr>\n",
       "    <tr>\n",
       "      <th>YES</th>\n",
       "      <td>Single</td>\n",
       "      <td>50190</td>\n",
       "      <td>193264</td>\n",
       "      <td>15</td>\n",
       "      <td>YES</td>\n",
       "    </tr>\n",
       "    <tr>\n",
       "      <th>NO</th>\n",
       "      <td>Married</td>\n",
       "      <td>81002</td>\n",
       "      <td>27533</td>\n",
       "      <td>28</td>\n",
       "      <td>NO</td>\n",
       "    </tr>\n",
       "    <tr>\n",
       "      <th>...</th>\n",
       "      <td>...</td>\n",
       "      <td>...</td>\n",
       "      <td>...</td>\n",
       "      <td>...</td>\n",
       "      <td>...</td>\n",
       "    </tr>\n",
       "    <tr>\n",
       "      <th>YES</th>\n",
       "      <td>Divorced</td>\n",
       "      <td>76340</td>\n",
       "      <td>39492</td>\n",
       "      <td>7</td>\n",
       "      <td>YES</td>\n",
       "    </tr>\n",
       "    <tr>\n",
       "      <th>YES</th>\n",
       "      <td>Divorced</td>\n",
       "      <td>69967</td>\n",
       "      <td>55369</td>\n",
       "      <td>2</td>\n",
       "      <td>YES</td>\n",
       "    </tr>\n",
       "    <tr>\n",
       "      <th>NO</th>\n",
       "      <td>Divorced</td>\n",
       "      <td>47334</td>\n",
       "      <td>154058</td>\n",
       "      <td>0</td>\n",
       "      <td>YES</td>\n",
       "    </tr>\n",
       "    <tr>\n",
       "      <th>YES</th>\n",
       "      <td>Married</td>\n",
       "      <td>98592</td>\n",
       "      <td>180083</td>\n",
       "      <td>17</td>\n",
       "      <td>NO</td>\n",
       "    </tr>\n",
       "    <tr>\n",
       "      <th>NO</th>\n",
       "      <td>Divorced</td>\n",
       "      <td>96519</td>\n",
       "      <td>158137</td>\n",
       "      <td>16</td>\n",
       "      <td>NO</td>\n",
       "    </tr>\n",
       "  </tbody>\n",
       "</table>\n",
       "<p>600 rows × 5 columns</p>\n",
       "</div>"
      ],
      "text/plain": [
       "          Marital.Status  Taxable.Income  City.Population  Work.Experience  \\\n",
       "Undergrad                                                                    \n",
       "NO                Single           68833            50047               10   \n",
       "YES             Divorced           33700           134075               18   \n",
       "NO               Married           36925           160205               30   \n",
       "YES               Single           50190           193264               15   \n",
       "NO               Married           81002            27533               28   \n",
       "...                  ...             ...              ...              ...   \n",
       "YES             Divorced           76340            39492                7   \n",
       "YES             Divorced           69967            55369                2   \n",
       "NO              Divorced           47334           154058                0   \n",
       "YES              Married           98592           180083               17   \n",
       "NO              Divorced           96519           158137               16   \n",
       "\n",
       "          Urban  \n",
       "Undergrad        \n",
       "NO          YES  \n",
       "YES         YES  \n",
       "NO          YES  \n",
       "YES         YES  \n",
       "NO           NO  \n",
       "...         ...  \n",
       "YES         YES  \n",
       "YES         YES  \n",
       "NO          YES  \n",
       "YES          NO  \n",
       "NO           NO  \n",
       "\n",
       "[600 rows x 5 columns]"
      ]
     },
     "execution_count": 2,
     "metadata": {},
     "output_type": "execute_result"
    }
   ],
   "source": [
    "fraud_data=pd.read_csv(\"D:/data_structure/decision_tree/Fraud_check.csv\",index_col=0)\n",
    "fraud_data"
   ]
  },
  {
   "cell_type": "code",
   "execution_count": 3,
   "id": "02af59e4",
   "metadata": {
    "ExecuteTime": {
     "end_time": "2022-05-30T13:51:07.342734Z",
     "start_time": "2022-05-30T13:51:07.326729Z"
    }
   },
   "outputs": [
    {
     "data": {
      "text/plain": [
       "(600, 5)"
      ]
     },
     "execution_count": 3,
     "metadata": {},
     "output_type": "execute_result"
    }
   ],
   "source": [
    "fraud_data.shape"
   ]
  },
  {
   "cell_type": "code",
   "execution_count": 4,
   "id": "ce8f3ef8",
   "metadata": {
    "ExecuteTime": {
     "end_time": "2022-05-30T13:51:07.374742Z",
     "start_time": "2022-05-30T13:51:07.342734Z"
    }
   },
   "outputs": [],
   "source": [
    "fraud_data.loc[fraud_data['Taxable.Income']>30000, 'Income']='Good'\n",
    "fraud_data.loc[fraud_data['Taxable.Income']<=30000, 'Income']='Risky'"
   ]
  },
  {
   "cell_type": "code",
   "execution_count": 5,
   "id": "d7cfa632",
   "metadata": {
    "ExecuteTime": {
     "end_time": "2022-05-30T13:51:07.390746Z",
     "start_time": "2022-05-30T13:51:07.374742Z"
    }
   },
   "outputs": [
    {
     "data": {
      "text/html": [
       "<div>\n",
       "<style scoped>\n",
       "    .dataframe tbody tr th:only-of-type {\n",
       "        vertical-align: middle;\n",
       "    }\n",
       "\n",
       "    .dataframe tbody tr th {\n",
       "        vertical-align: top;\n",
       "    }\n",
       "\n",
       "    .dataframe thead th {\n",
       "        text-align: right;\n",
       "    }\n",
       "</style>\n",
       "<table border=\"1\" class=\"dataframe\">\n",
       "  <thead>\n",
       "    <tr style=\"text-align: right;\">\n",
       "      <th></th>\n",
       "      <th>Marital.Status</th>\n",
       "      <th>Taxable.Income</th>\n",
       "      <th>City.Population</th>\n",
       "      <th>Work.Experience</th>\n",
       "      <th>Urban</th>\n",
       "      <th>Income</th>\n",
       "    </tr>\n",
       "    <tr>\n",
       "      <th>Undergrad</th>\n",
       "      <th></th>\n",
       "      <th></th>\n",
       "      <th></th>\n",
       "      <th></th>\n",
       "      <th></th>\n",
       "      <th></th>\n",
       "    </tr>\n",
       "  </thead>\n",
       "  <tbody>\n",
       "    <tr>\n",
       "      <th>NO</th>\n",
       "      <td>Single</td>\n",
       "      <td>68833</td>\n",
       "      <td>50047</td>\n",
       "      <td>10</td>\n",
       "      <td>YES</td>\n",
       "      <td>Good</td>\n",
       "    </tr>\n",
       "    <tr>\n",
       "      <th>YES</th>\n",
       "      <td>Divorced</td>\n",
       "      <td>33700</td>\n",
       "      <td>134075</td>\n",
       "      <td>18</td>\n",
       "      <td>YES</td>\n",
       "      <td>Good</td>\n",
       "    </tr>\n",
       "    <tr>\n",
       "      <th>NO</th>\n",
       "      <td>Married</td>\n",
       "      <td>36925</td>\n",
       "      <td>160205</td>\n",
       "      <td>30</td>\n",
       "      <td>YES</td>\n",
       "      <td>Good</td>\n",
       "    </tr>\n",
       "    <tr>\n",
       "      <th>YES</th>\n",
       "      <td>Single</td>\n",
       "      <td>50190</td>\n",
       "      <td>193264</td>\n",
       "      <td>15</td>\n",
       "      <td>YES</td>\n",
       "      <td>Good</td>\n",
       "    </tr>\n",
       "    <tr>\n",
       "      <th>NO</th>\n",
       "      <td>Married</td>\n",
       "      <td>81002</td>\n",
       "      <td>27533</td>\n",
       "      <td>28</td>\n",
       "      <td>NO</td>\n",
       "      <td>Good</td>\n",
       "    </tr>\n",
       "  </tbody>\n",
       "</table>\n",
       "</div>"
      ],
      "text/plain": [
       "          Marital.Status  Taxable.Income  City.Population  Work.Experience  \\\n",
       "Undergrad                                                                    \n",
       "NO                Single           68833            50047               10   \n",
       "YES             Divorced           33700           134075               18   \n",
       "NO               Married           36925           160205               30   \n",
       "YES               Single           50190           193264               15   \n",
       "NO               Married           81002            27533               28   \n",
       "\n",
       "          Urban Income  \n",
       "Undergrad               \n",
       "NO          YES   Good  \n",
       "YES         YES   Good  \n",
       "NO          YES   Good  \n",
       "YES         YES   Good  \n",
       "NO           NO   Good  "
      ]
     },
     "execution_count": 5,
     "metadata": {},
     "output_type": "execute_result"
    }
   ],
   "source": [
    "fraud_data.head()"
   ]
  },
  {
   "cell_type": "code",
   "execution_count": 6,
   "id": "6f200773",
   "metadata": {
    "ExecuteTime": {
     "end_time": "2022-05-30T13:51:07.414751Z",
     "start_time": "2022-05-30T13:51:07.390746Z"
    }
   },
   "outputs": [
    {
     "data": {
      "text/html": [
       "<div>\n",
       "<style scoped>\n",
       "    .dataframe tbody tr th:only-of-type {\n",
       "        vertical-align: middle;\n",
       "    }\n",
       "\n",
       "    .dataframe tbody tr th {\n",
       "        vertical-align: top;\n",
       "    }\n",
       "\n",
       "    .dataframe thead th {\n",
       "        text-align: right;\n",
       "    }\n",
       "</style>\n",
       "<table border=\"1\" class=\"dataframe\">\n",
       "  <thead>\n",
       "    <tr style=\"text-align: right;\">\n",
       "      <th></th>\n",
       "      <th>marital_status</th>\n",
       "      <th>Taxable_income</th>\n",
       "      <th>City_populatoin</th>\n",
       "      <th>Work_experience</th>\n",
       "      <th>Urban</th>\n",
       "      <th>Income</th>\n",
       "    </tr>\n",
       "    <tr>\n",
       "      <th>Undergrad</th>\n",
       "      <th></th>\n",
       "      <th></th>\n",
       "      <th></th>\n",
       "      <th></th>\n",
       "      <th></th>\n",
       "      <th></th>\n",
       "    </tr>\n",
       "  </thead>\n",
       "  <tbody>\n",
       "    <tr>\n",
       "      <th>NO</th>\n",
       "      <td>Single</td>\n",
       "      <td>68833</td>\n",
       "      <td>50047</td>\n",
       "      <td>10</td>\n",
       "      <td>YES</td>\n",
       "      <td>Good</td>\n",
       "    </tr>\n",
       "    <tr>\n",
       "      <th>YES</th>\n",
       "      <td>Divorced</td>\n",
       "      <td>33700</td>\n",
       "      <td>134075</td>\n",
       "      <td>18</td>\n",
       "      <td>YES</td>\n",
       "      <td>Good</td>\n",
       "    </tr>\n",
       "    <tr>\n",
       "      <th>NO</th>\n",
       "      <td>Married</td>\n",
       "      <td>36925</td>\n",
       "      <td>160205</td>\n",
       "      <td>30</td>\n",
       "      <td>YES</td>\n",
       "      <td>Good</td>\n",
       "    </tr>\n",
       "    <tr>\n",
       "      <th>YES</th>\n",
       "      <td>Single</td>\n",
       "      <td>50190</td>\n",
       "      <td>193264</td>\n",
       "      <td>15</td>\n",
       "      <td>YES</td>\n",
       "      <td>Good</td>\n",
       "    </tr>\n",
       "    <tr>\n",
       "      <th>NO</th>\n",
       "      <td>Married</td>\n",
       "      <td>81002</td>\n",
       "      <td>27533</td>\n",
       "      <td>28</td>\n",
       "      <td>NO</td>\n",
       "      <td>Good</td>\n",
       "    </tr>\n",
       "    <tr>\n",
       "      <th>...</th>\n",
       "      <td>...</td>\n",
       "      <td>...</td>\n",
       "      <td>...</td>\n",
       "      <td>...</td>\n",
       "      <td>...</td>\n",
       "      <td>...</td>\n",
       "    </tr>\n",
       "    <tr>\n",
       "      <th>YES</th>\n",
       "      <td>Divorced</td>\n",
       "      <td>76340</td>\n",
       "      <td>39492</td>\n",
       "      <td>7</td>\n",
       "      <td>YES</td>\n",
       "      <td>Good</td>\n",
       "    </tr>\n",
       "    <tr>\n",
       "      <th>YES</th>\n",
       "      <td>Divorced</td>\n",
       "      <td>69967</td>\n",
       "      <td>55369</td>\n",
       "      <td>2</td>\n",
       "      <td>YES</td>\n",
       "      <td>Good</td>\n",
       "    </tr>\n",
       "    <tr>\n",
       "      <th>NO</th>\n",
       "      <td>Divorced</td>\n",
       "      <td>47334</td>\n",
       "      <td>154058</td>\n",
       "      <td>0</td>\n",
       "      <td>YES</td>\n",
       "      <td>Good</td>\n",
       "    </tr>\n",
       "    <tr>\n",
       "      <th>YES</th>\n",
       "      <td>Married</td>\n",
       "      <td>98592</td>\n",
       "      <td>180083</td>\n",
       "      <td>17</td>\n",
       "      <td>NO</td>\n",
       "      <td>Good</td>\n",
       "    </tr>\n",
       "    <tr>\n",
       "      <th>NO</th>\n",
       "      <td>Divorced</td>\n",
       "      <td>96519</td>\n",
       "      <td>158137</td>\n",
       "      <td>16</td>\n",
       "      <td>NO</td>\n",
       "      <td>Good</td>\n",
       "    </tr>\n",
       "  </tbody>\n",
       "</table>\n",
       "<p>600 rows × 6 columns</p>\n",
       "</div>"
      ],
      "text/plain": [
       "          marital_status  Taxable_income  City_populatoin  Work_experience  \\\n",
       "Undergrad                                                                    \n",
       "NO                Single           68833            50047               10   \n",
       "YES             Divorced           33700           134075               18   \n",
       "NO               Married           36925           160205               30   \n",
       "YES               Single           50190           193264               15   \n",
       "NO               Married           81002            27533               28   \n",
       "...                  ...             ...              ...              ...   \n",
       "YES             Divorced           76340            39492                7   \n",
       "YES             Divorced           69967            55369                2   \n",
       "NO              Divorced           47334           154058                0   \n",
       "YES              Married           98592           180083               17   \n",
       "NO              Divorced           96519           158137               16   \n",
       "\n",
       "          Urban Income  \n",
       "Undergrad               \n",
       "NO          YES   Good  \n",
       "YES         YES   Good  \n",
       "NO          YES   Good  \n",
       "YES         YES   Good  \n",
       "NO           NO   Good  \n",
       "...         ...    ...  \n",
       "YES         YES   Good  \n",
       "YES         YES   Good  \n",
       "NO          YES   Good  \n",
       "YES          NO   Good  \n",
       "NO           NO   Good  \n",
       "\n",
       "[600 rows x 6 columns]"
      ]
     },
     "execution_count": 6,
     "metadata": {},
     "output_type": "execute_result"
    }
   ],
   "source": [
    "fraud_data1=fraud_data.rename(columns={'Marital.Status':'marital_status','Taxable.Income':'Taxable_income','City.Population':'City_populatoin','Work.Experience':'Work_experience'})\n",
    "fraud_data1"
   ]
  },
  {
   "cell_type": "code",
   "execution_count": 7,
   "id": "d8445d14",
   "metadata": {
    "ExecuteTime": {
     "end_time": "2022-05-30T13:51:07.446761Z",
     "start_time": "2022-05-30T13:51:07.414751Z"
    }
   },
   "outputs": [
    {
     "data": {
      "text/html": [
       "<div>\n",
       "<style scoped>\n",
       "    .dataframe tbody tr th:only-of-type {\n",
       "        vertical-align: middle;\n",
       "    }\n",
       "\n",
       "    .dataframe tbody tr th {\n",
       "        vertical-align: top;\n",
       "    }\n",
       "\n",
       "    .dataframe thead th {\n",
       "        text-align: right;\n",
       "    }\n",
       "</style>\n",
       "<table border=\"1\" class=\"dataframe\">\n",
       "  <thead>\n",
       "    <tr style=\"text-align: right;\">\n",
       "      <th></th>\n",
       "      <th>marital_status</th>\n",
       "      <th>Taxable_income</th>\n",
       "      <th>City_populatoin</th>\n",
       "      <th>Work_experience</th>\n",
       "      <th>Urban</th>\n",
       "      <th>Income</th>\n",
       "    </tr>\n",
       "    <tr>\n",
       "      <th>Undergrad</th>\n",
       "      <th></th>\n",
       "      <th></th>\n",
       "      <th></th>\n",
       "      <th></th>\n",
       "      <th></th>\n",
       "      <th></th>\n",
       "    </tr>\n",
       "  </thead>\n",
       "  <tbody>\n",
       "    <tr>\n",
       "      <th>NO</th>\n",
       "      <td>Single</td>\n",
       "      <td>68833</td>\n",
       "      <td>50047</td>\n",
       "      <td>10</td>\n",
       "      <td>YES</td>\n",
       "      <td>Good</td>\n",
       "    </tr>\n",
       "    <tr>\n",
       "      <th>YES</th>\n",
       "      <td>Divorced</td>\n",
       "      <td>33700</td>\n",
       "      <td>134075</td>\n",
       "      <td>18</td>\n",
       "      <td>YES</td>\n",
       "      <td>Good</td>\n",
       "    </tr>\n",
       "    <tr>\n",
       "      <th>NO</th>\n",
       "      <td>Married</td>\n",
       "      <td>36925</td>\n",
       "      <td>160205</td>\n",
       "      <td>30</td>\n",
       "      <td>YES</td>\n",
       "      <td>Good</td>\n",
       "    </tr>\n",
       "    <tr>\n",
       "      <th>YES</th>\n",
       "      <td>Single</td>\n",
       "      <td>50190</td>\n",
       "      <td>193264</td>\n",
       "      <td>15</td>\n",
       "      <td>YES</td>\n",
       "      <td>Good</td>\n",
       "    </tr>\n",
       "    <tr>\n",
       "      <th>NO</th>\n",
       "      <td>Married</td>\n",
       "      <td>81002</td>\n",
       "      <td>27533</td>\n",
       "      <td>28</td>\n",
       "      <td>NO</td>\n",
       "      <td>Good</td>\n",
       "    </tr>\n",
       "    <tr>\n",
       "      <th>...</th>\n",
       "      <td>...</td>\n",
       "      <td>...</td>\n",
       "      <td>...</td>\n",
       "      <td>...</td>\n",
       "      <td>...</td>\n",
       "      <td>...</td>\n",
       "    </tr>\n",
       "    <tr>\n",
       "      <th>YES</th>\n",
       "      <td>Divorced</td>\n",
       "      <td>76340</td>\n",
       "      <td>39492</td>\n",
       "      <td>7</td>\n",
       "      <td>YES</td>\n",
       "      <td>Good</td>\n",
       "    </tr>\n",
       "    <tr>\n",
       "      <th>YES</th>\n",
       "      <td>Divorced</td>\n",
       "      <td>69967</td>\n",
       "      <td>55369</td>\n",
       "      <td>2</td>\n",
       "      <td>YES</td>\n",
       "      <td>Good</td>\n",
       "    </tr>\n",
       "    <tr>\n",
       "      <th>NO</th>\n",
       "      <td>Divorced</td>\n",
       "      <td>47334</td>\n",
       "      <td>154058</td>\n",
       "      <td>0</td>\n",
       "      <td>YES</td>\n",
       "      <td>Good</td>\n",
       "    </tr>\n",
       "    <tr>\n",
       "      <th>YES</th>\n",
       "      <td>Married</td>\n",
       "      <td>98592</td>\n",
       "      <td>180083</td>\n",
       "      <td>17</td>\n",
       "      <td>NO</td>\n",
       "      <td>Good</td>\n",
       "    </tr>\n",
       "    <tr>\n",
       "      <th>NO</th>\n",
       "      <td>Divorced</td>\n",
       "      <td>96519</td>\n",
       "      <td>158137</td>\n",
       "      <td>16</td>\n",
       "      <td>NO</td>\n",
       "      <td>Good</td>\n",
       "    </tr>\n",
       "  </tbody>\n",
       "</table>\n",
       "<p>600 rows × 6 columns</p>\n",
       "</div>"
      ],
      "text/plain": [
       "          marital_status  Taxable_income  City_populatoin  Work_experience  \\\n",
       "Undergrad                                                                    \n",
       "NO                Single           68833            50047               10   \n",
       "YES             Divorced           33700           134075               18   \n",
       "NO               Married           36925           160205               30   \n",
       "YES               Single           50190           193264               15   \n",
       "NO               Married           81002            27533               28   \n",
       "...                  ...             ...              ...              ...   \n",
       "YES             Divorced           76340            39492                7   \n",
       "YES             Divorced           69967            55369                2   \n",
       "NO              Divorced           47334           154058                0   \n",
       "YES              Married           98592           180083               17   \n",
       "NO              Divorced           96519           158137               16   \n",
       "\n",
       "          Urban Income  \n",
       "Undergrad               \n",
       "NO          YES   Good  \n",
       "YES         YES   Good  \n",
       "NO          YES   Good  \n",
       "YES         YES   Good  \n",
       "NO           NO   Good  \n",
       "...         ...    ...  \n",
       "YES         YES   Good  \n",
       "YES         YES   Good  \n",
       "NO          YES   Good  \n",
       "YES          NO   Good  \n",
       "NO           NO   Good  \n",
       "\n",
       "[600 rows x 6 columns]"
      ]
     },
     "execution_count": 7,
     "metadata": {},
     "output_type": "execute_result"
    }
   ],
   "source": [
    "fraud_data1"
   ]
  },
  {
   "cell_type": "code",
   "execution_count": 8,
   "id": "9cf08ae3",
   "metadata": {
    "ExecuteTime": {
     "end_time": "2022-05-30T13:51:07.462765Z",
     "start_time": "2022-05-30T13:51:07.446761Z"
    }
   },
   "outputs": [],
   "source": [
    "label_encoder=preprocessing.LabelEncoder()\n",
    "fraud_data1['marital_status']=label_encoder.fit_transform(fraud_data1['marital_status'])\n",
    "fraud_data1['Urban']=label_encoder.fit_transform(fraud_data1['Urban'])"
   ]
  },
  {
   "cell_type": "code",
   "execution_count": 9,
   "id": "0dc4faa2",
   "metadata": {
    "ExecuteTime": {
     "end_time": "2022-05-30T13:51:07.494771Z",
     "start_time": "2022-05-30T13:51:07.462765Z"
    }
   },
   "outputs": [
    {
     "data": {
      "text/html": [
       "<div>\n",
       "<style scoped>\n",
       "    .dataframe tbody tr th:only-of-type {\n",
       "        vertical-align: middle;\n",
       "    }\n",
       "\n",
       "    .dataframe tbody tr th {\n",
       "        vertical-align: top;\n",
       "    }\n",
       "\n",
       "    .dataframe thead th {\n",
       "        text-align: right;\n",
       "    }\n",
       "</style>\n",
       "<table border=\"1\" class=\"dataframe\">\n",
       "  <thead>\n",
       "    <tr style=\"text-align: right;\">\n",
       "      <th></th>\n",
       "      <th>marital_status</th>\n",
       "      <th>Taxable_income</th>\n",
       "      <th>City_populatoin</th>\n",
       "      <th>Work_experience</th>\n",
       "      <th>Urban</th>\n",
       "      <th>Income</th>\n",
       "    </tr>\n",
       "    <tr>\n",
       "      <th>Undergrad</th>\n",
       "      <th></th>\n",
       "      <th></th>\n",
       "      <th></th>\n",
       "      <th></th>\n",
       "      <th></th>\n",
       "      <th></th>\n",
       "    </tr>\n",
       "  </thead>\n",
       "  <tbody>\n",
       "    <tr>\n",
       "      <th>NO</th>\n",
       "      <td>2</td>\n",
       "      <td>68833</td>\n",
       "      <td>50047</td>\n",
       "      <td>10</td>\n",
       "      <td>1</td>\n",
       "      <td>Good</td>\n",
       "    </tr>\n",
       "    <tr>\n",
       "      <th>YES</th>\n",
       "      <td>0</td>\n",
       "      <td>33700</td>\n",
       "      <td>134075</td>\n",
       "      <td>18</td>\n",
       "      <td>1</td>\n",
       "      <td>Good</td>\n",
       "    </tr>\n",
       "    <tr>\n",
       "      <th>NO</th>\n",
       "      <td>1</td>\n",
       "      <td>36925</td>\n",
       "      <td>160205</td>\n",
       "      <td>30</td>\n",
       "      <td>1</td>\n",
       "      <td>Good</td>\n",
       "    </tr>\n",
       "    <tr>\n",
       "      <th>YES</th>\n",
       "      <td>2</td>\n",
       "      <td>50190</td>\n",
       "      <td>193264</td>\n",
       "      <td>15</td>\n",
       "      <td>1</td>\n",
       "      <td>Good</td>\n",
       "    </tr>\n",
       "    <tr>\n",
       "      <th>NO</th>\n",
       "      <td>1</td>\n",
       "      <td>81002</td>\n",
       "      <td>27533</td>\n",
       "      <td>28</td>\n",
       "      <td>0</td>\n",
       "      <td>Good</td>\n",
       "    </tr>\n",
       "    <tr>\n",
       "      <th>...</th>\n",
       "      <td>...</td>\n",
       "      <td>...</td>\n",
       "      <td>...</td>\n",
       "      <td>...</td>\n",
       "      <td>...</td>\n",
       "      <td>...</td>\n",
       "    </tr>\n",
       "    <tr>\n",
       "      <th>YES</th>\n",
       "      <td>0</td>\n",
       "      <td>76340</td>\n",
       "      <td>39492</td>\n",
       "      <td>7</td>\n",
       "      <td>1</td>\n",
       "      <td>Good</td>\n",
       "    </tr>\n",
       "    <tr>\n",
       "      <th>YES</th>\n",
       "      <td>0</td>\n",
       "      <td>69967</td>\n",
       "      <td>55369</td>\n",
       "      <td>2</td>\n",
       "      <td>1</td>\n",
       "      <td>Good</td>\n",
       "    </tr>\n",
       "    <tr>\n",
       "      <th>NO</th>\n",
       "      <td>0</td>\n",
       "      <td>47334</td>\n",
       "      <td>154058</td>\n",
       "      <td>0</td>\n",
       "      <td>1</td>\n",
       "      <td>Good</td>\n",
       "    </tr>\n",
       "    <tr>\n",
       "      <th>YES</th>\n",
       "      <td>1</td>\n",
       "      <td>98592</td>\n",
       "      <td>180083</td>\n",
       "      <td>17</td>\n",
       "      <td>0</td>\n",
       "      <td>Good</td>\n",
       "    </tr>\n",
       "    <tr>\n",
       "      <th>NO</th>\n",
       "      <td>0</td>\n",
       "      <td>96519</td>\n",
       "      <td>158137</td>\n",
       "      <td>16</td>\n",
       "      <td>0</td>\n",
       "      <td>Good</td>\n",
       "    </tr>\n",
       "  </tbody>\n",
       "</table>\n",
       "<p>600 rows × 6 columns</p>\n",
       "</div>"
      ],
      "text/plain": [
       "           marital_status  Taxable_income  City_populatoin  Work_experience  \\\n",
       "Undergrad                                                                     \n",
       "NO                      2           68833            50047               10   \n",
       "YES                     0           33700           134075               18   \n",
       "NO                      1           36925           160205               30   \n",
       "YES                     2           50190           193264               15   \n",
       "NO                      1           81002            27533               28   \n",
       "...                   ...             ...              ...              ...   \n",
       "YES                     0           76340            39492                7   \n",
       "YES                     0           69967            55369                2   \n",
       "NO                      0           47334           154058                0   \n",
       "YES                     1           98592           180083               17   \n",
       "NO                      0           96519           158137               16   \n",
       "\n",
       "           Urban Income  \n",
       "Undergrad                \n",
       "NO             1   Good  \n",
       "YES            1   Good  \n",
       "NO             1   Good  \n",
       "YES            1   Good  \n",
       "NO             0   Good  \n",
       "...          ...    ...  \n",
       "YES            1   Good  \n",
       "YES            1   Good  \n",
       "NO             1   Good  \n",
       "YES            0   Good  \n",
       "NO             0   Good  \n",
       "\n",
       "[600 rows x 6 columns]"
      ]
     },
     "execution_count": 9,
     "metadata": {},
     "output_type": "execute_result"
    }
   ],
   "source": [
    "fraud_data1"
   ]
  },
  {
   "cell_type": "code",
   "execution_count": 10,
   "id": "e53f2d5f",
   "metadata": {
    "ExecuteTime": {
     "end_time": "2022-05-30T13:51:07.510779Z",
     "start_time": "2022-05-30T13:51:07.494771Z"
    }
   },
   "outputs": [],
   "source": [
    "x= fraud_data1.drop('Income',axis=1)"
   ]
  },
  {
   "cell_type": "code",
   "execution_count": 11,
   "id": "1a76e215",
   "metadata": {
    "ExecuteTime": {
     "end_time": "2022-05-30T13:51:07.526780Z",
     "start_time": "2022-05-30T13:51:07.510779Z"
    }
   },
   "outputs": [],
   "source": [
    "y= fraud_data1['Income']"
   ]
  },
  {
   "cell_type": "code",
   "execution_count": 12,
   "id": "9069a19e",
   "metadata": {
    "ExecuteTime": {
     "end_time": "2022-05-30T13:51:07.558790Z",
     "start_time": "2022-05-30T13:51:07.526780Z"
    }
   },
   "outputs": [
    {
     "data": {
      "text/html": [
       "<div>\n",
       "<style scoped>\n",
       "    .dataframe tbody tr th:only-of-type {\n",
       "        vertical-align: middle;\n",
       "    }\n",
       "\n",
       "    .dataframe tbody tr th {\n",
       "        vertical-align: top;\n",
       "    }\n",
       "\n",
       "    .dataframe thead th {\n",
       "        text-align: right;\n",
       "    }\n",
       "</style>\n",
       "<table border=\"1\" class=\"dataframe\">\n",
       "  <thead>\n",
       "    <tr style=\"text-align: right;\">\n",
       "      <th></th>\n",
       "      <th>marital_status</th>\n",
       "      <th>Taxable_income</th>\n",
       "      <th>City_populatoin</th>\n",
       "      <th>Work_experience</th>\n",
       "      <th>Urban</th>\n",
       "    </tr>\n",
       "    <tr>\n",
       "      <th>Undergrad</th>\n",
       "      <th></th>\n",
       "      <th></th>\n",
       "      <th></th>\n",
       "      <th></th>\n",
       "      <th></th>\n",
       "    </tr>\n",
       "  </thead>\n",
       "  <tbody>\n",
       "    <tr>\n",
       "      <th>NO</th>\n",
       "      <td>2</td>\n",
       "      <td>68833</td>\n",
       "      <td>50047</td>\n",
       "      <td>10</td>\n",
       "      <td>1</td>\n",
       "    </tr>\n",
       "    <tr>\n",
       "      <th>YES</th>\n",
       "      <td>0</td>\n",
       "      <td>33700</td>\n",
       "      <td>134075</td>\n",
       "      <td>18</td>\n",
       "      <td>1</td>\n",
       "    </tr>\n",
       "    <tr>\n",
       "      <th>NO</th>\n",
       "      <td>1</td>\n",
       "      <td>36925</td>\n",
       "      <td>160205</td>\n",
       "      <td>30</td>\n",
       "      <td>1</td>\n",
       "    </tr>\n",
       "    <tr>\n",
       "      <th>YES</th>\n",
       "      <td>2</td>\n",
       "      <td>50190</td>\n",
       "      <td>193264</td>\n",
       "      <td>15</td>\n",
       "      <td>1</td>\n",
       "    </tr>\n",
       "    <tr>\n",
       "      <th>NO</th>\n",
       "      <td>1</td>\n",
       "      <td>81002</td>\n",
       "      <td>27533</td>\n",
       "      <td>28</td>\n",
       "      <td>0</td>\n",
       "    </tr>\n",
       "    <tr>\n",
       "      <th>...</th>\n",
       "      <td>...</td>\n",
       "      <td>...</td>\n",
       "      <td>...</td>\n",
       "      <td>...</td>\n",
       "      <td>...</td>\n",
       "    </tr>\n",
       "    <tr>\n",
       "      <th>YES</th>\n",
       "      <td>0</td>\n",
       "      <td>76340</td>\n",
       "      <td>39492</td>\n",
       "      <td>7</td>\n",
       "      <td>1</td>\n",
       "    </tr>\n",
       "    <tr>\n",
       "      <th>YES</th>\n",
       "      <td>0</td>\n",
       "      <td>69967</td>\n",
       "      <td>55369</td>\n",
       "      <td>2</td>\n",
       "      <td>1</td>\n",
       "    </tr>\n",
       "    <tr>\n",
       "      <th>NO</th>\n",
       "      <td>0</td>\n",
       "      <td>47334</td>\n",
       "      <td>154058</td>\n",
       "      <td>0</td>\n",
       "      <td>1</td>\n",
       "    </tr>\n",
       "    <tr>\n",
       "      <th>YES</th>\n",
       "      <td>1</td>\n",
       "      <td>98592</td>\n",
       "      <td>180083</td>\n",
       "      <td>17</td>\n",
       "      <td>0</td>\n",
       "    </tr>\n",
       "    <tr>\n",
       "      <th>NO</th>\n",
       "      <td>0</td>\n",
       "      <td>96519</td>\n",
       "      <td>158137</td>\n",
       "      <td>16</td>\n",
       "      <td>0</td>\n",
       "    </tr>\n",
       "  </tbody>\n",
       "</table>\n",
       "<p>600 rows × 5 columns</p>\n",
       "</div>"
      ],
      "text/plain": [
       "           marital_status  Taxable_income  City_populatoin  Work_experience  \\\n",
       "Undergrad                                                                     \n",
       "NO                      2           68833            50047               10   \n",
       "YES                     0           33700           134075               18   \n",
       "NO                      1           36925           160205               30   \n",
       "YES                     2           50190           193264               15   \n",
       "NO                      1           81002            27533               28   \n",
       "...                   ...             ...              ...              ...   \n",
       "YES                     0           76340            39492                7   \n",
       "YES                     0           69967            55369                2   \n",
       "NO                      0           47334           154058                0   \n",
       "YES                     1           98592           180083               17   \n",
       "NO                      0           96519           158137               16   \n",
       "\n",
       "           Urban  \n",
       "Undergrad         \n",
       "NO             1  \n",
       "YES            1  \n",
       "NO             1  \n",
       "YES            1  \n",
       "NO             0  \n",
       "...          ...  \n",
       "YES            1  \n",
       "YES            1  \n",
       "NO             1  \n",
       "YES            0  \n",
       "NO             0  \n",
       "\n",
       "[600 rows x 5 columns]"
      ]
     },
     "execution_count": 12,
     "metadata": {},
     "output_type": "execute_result"
    }
   ],
   "source": [
    "x"
   ]
  },
  {
   "cell_type": "code",
   "execution_count": 13,
   "id": "250ebb2f",
   "metadata": {
    "ExecuteTime": {
     "end_time": "2022-05-30T13:51:07.590798Z",
     "start_time": "2022-05-30T13:51:07.558790Z"
    }
   },
   "outputs": [
    {
     "data": {
      "text/plain": [
       "Undergrad\n",
       "NO     Good\n",
       "YES    Good\n",
       "NO     Good\n",
       "YES    Good\n",
       "NO     Good\n",
       "       ... \n",
       "YES    Good\n",
       "YES    Good\n",
       "NO     Good\n",
       "YES    Good\n",
       "NO     Good\n",
       "Name: Income, Length: 600, dtype: object"
      ]
     },
     "execution_count": 13,
     "metadata": {},
     "output_type": "execute_result"
    }
   ],
   "source": [
    "y"
   ]
  },
  {
   "cell_type": "code",
   "execution_count": 14,
   "id": "ee438efe",
   "metadata": {
    "ExecuteTime": {
     "end_time": "2022-05-30T13:51:07.614802Z",
     "start_time": "2022-05-30T13:51:07.590798Z"
    }
   },
   "outputs": [
    {
     "data": {
      "text/plain": [
       "array(['Good', 'Risky'], dtype=object)"
      ]
     },
     "execution_count": 14,
     "metadata": {},
     "output_type": "execute_result"
    }
   ],
   "source": [
    "y.unique()"
   ]
  },
  {
   "cell_type": "code",
   "execution_count": 15,
   "id": "26d9dfdb",
   "metadata": {
    "ExecuteTime": {
     "end_time": "2022-05-30T13:51:07.630807Z",
     "start_time": "2022-05-30T13:51:07.614802Z"
    }
   },
   "outputs": [
    {
     "data": {
      "text/plain": [
       "Good     476\n",
       "Risky    124\n",
       "Name: Income, dtype: int64"
      ]
     },
     "execution_count": 15,
     "metadata": {},
     "output_type": "execute_result"
    }
   ],
   "source": [
    "y.value_counts()"
   ]
  },
  {
   "cell_type": "code",
   "execution_count": 16,
   "id": "5fb3cf36",
   "metadata": {
    "ExecuteTime": {
     "end_time": "2022-05-30T13:51:07.646811Z",
     "start_time": "2022-05-30T13:51:07.630807Z"
    }
   },
   "outputs": [],
   "source": [
    "#splitting the data into training and testing dataset"
   ]
  },
  {
   "cell_type": "code",
   "execution_count": 17,
   "id": "7bbcd162",
   "metadata": {
    "ExecuteTime": {
     "end_time": "2022-05-30T13:51:07.670826Z",
     "start_time": "2022-05-30T13:51:07.646811Z"
    }
   },
   "outputs": [],
   "source": [
    "x_train,x_test,y_train,y_test = train_test_split(x,y , train_size=0.8,random_state=0)"
   ]
  },
  {
   "cell_type": "code",
   "execution_count": 18,
   "id": "60976458",
   "metadata": {
    "ExecuteTime": {
     "end_time": "2022-05-30T13:51:07.686821Z",
     "start_time": "2022-05-30T13:51:07.670826Z"
    }
   },
   "outputs": [
    {
     "data": {
      "text/plain": [
       "((480, 5), (480,))"
      ]
     },
     "execution_count": 18,
     "metadata": {},
     "output_type": "execute_result"
    }
   ],
   "source": [
    "x_train.shape,y_train.shape"
   ]
  },
  {
   "cell_type": "code",
   "execution_count": 19,
   "id": "50197e29",
   "metadata": {
    "ExecuteTime": {
     "end_time": "2022-05-30T13:51:07.734832Z",
     "start_time": "2022-05-30T13:51:07.686821Z"
    }
   },
   "outputs": [
    {
     "data": {
      "text/html": [
       "<div>\n",
       "<style scoped>\n",
       "    .dataframe tbody tr th:only-of-type {\n",
       "        vertical-align: middle;\n",
       "    }\n",
       "\n",
       "    .dataframe tbody tr th {\n",
       "        vertical-align: top;\n",
       "    }\n",
       "\n",
       "    .dataframe thead th {\n",
       "        text-align: right;\n",
       "    }\n",
       "</style>\n",
       "<table border=\"1\" class=\"dataframe\">\n",
       "  <thead>\n",
       "    <tr style=\"text-align: right;\">\n",
       "      <th></th>\n",
       "      <th>marital_status</th>\n",
       "      <th>Taxable_income</th>\n",
       "      <th>City_populatoin</th>\n",
       "      <th>Work_experience</th>\n",
       "      <th>Urban</th>\n",
       "    </tr>\n",
       "    <tr>\n",
       "      <th>Undergrad</th>\n",
       "      <th></th>\n",
       "      <th></th>\n",
       "      <th></th>\n",
       "      <th></th>\n",
       "      <th></th>\n",
       "    </tr>\n",
       "  </thead>\n",
       "  <tbody>\n",
       "    <tr>\n",
       "      <th>NO</th>\n",
       "      <td>0</td>\n",
       "      <td>29944</td>\n",
       "      <td>199174</td>\n",
       "      <td>10</td>\n",
       "      <td>0</td>\n",
       "    </tr>\n",
       "    <tr>\n",
       "      <th>YES</th>\n",
       "      <td>0</td>\n",
       "      <td>16320</td>\n",
       "      <td>75552</td>\n",
       "      <td>17</td>\n",
       "      <td>1</td>\n",
       "    </tr>\n",
       "    <tr>\n",
       "      <th>YES</th>\n",
       "      <td>2</td>\n",
       "      <td>19925</td>\n",
       "      <td>89965</td>\n",
       "      <td>16</td>\n",
       "      <td>1</td>\n",
       "    </tr>\n",
       "    <tr>\n",
       "      <th>NO</th>\n",
       "      <td>0</td>\n",
       "      <td>77634</td>\n",
       "      <td>101232</td>\n",
       "      <td>29</td>\n",
       "      <td>0</td>\n",
       "    </tr>\n",
       "    <tr>\n",
       "      <th>YES</th>\n",
       "      <td>2</td>\n",
       "      <td>64437</td>\n",
       "      <td>57324</td>\n",
       "      <td>17</td>\n",
       "      <td>0</td>\n",
       "    </tr>\n",
       "    <tr>\n",
       "      <th>...</th>\n",
       "      <td>...</td>\n",
       "      <td>...</td>\n",
       "      <td>...</td>\n",
       "      <td>...</td>\n",
       "      <td>...</td>\n",
       "    </tr>\n",
       "    <tr>\n",
       "      <th>NO</th>\n",
       "      <td>0</td>\n",
       "      <td>63710</td>\n",
       "      <td>117364</td>\n",
       "      <td>11</td>\n",
       "      <td>0</td>\n",
       "    </tr>\n",
       "    <tr>\n",
       "      <th>YES</th>\n",
       "      <td>0</td>\n",
       "      <td>98152</td>\n",
       "      <td>155482</td>\n",
       "      <td>4</td>\n",
       "      <td>1</td>\n",
       "    </tr>\n",
       "    <tr>\n",
       "      <th>YES</th>\n",
       "      <td>2</td>\n",
       "      <td>33215</td>\n",
       "      <td>157299</td>\n",
       "      <td>11</td>\n",
       "      <td>0</td>\n",
       "    </tr>\n",
       "    <tr>\n",
       "      <th>YES</th>\n",
       "      <td>1</td>\n",
       "      <td>48313</td>\n",
       "      <td>126556</td>\n",
       "      <td>10</td>\n",
       "      <td>1</td>\n",
       "    </tr>\n",
       "    <tr>\n",
       "      <th>YES</th>\n",
       "      <td>0</td>\n",
       "      <td>72026</td>\n",
       "      <td>180424</td>\n",
       "      <td>26</td>\n",
       "      <td>0</td>\n",
       "    </tr>\n",
       "  </tbody>\n",
       "</table>\n",
       "<p>480 rows × 5 columns</p>\n",
       "</div>"
      ],
      "text/plain": [
       "           marital_status  Taxable_income  City_populatoin  Work_experience  \\\n",
       "Undergrad                                                                     \n",
       "NO                      0           29944           199174               10   \n",
       "YES                     0           16320            75552               17   \n",
       "YES                     2           19925            89965               16   \n",
       "NO                      0           77634           101232               29   \n",
       "YES                     2           64437            57324               17   \n",
       "...                   ...             ...              ...              ...   \n",
       "NO                      0           63710           117364               11   \n",
       "YES                     0           98152           155482                4   \n",
       "YES                     2           33215           157299               11   \n",
       "YES                     1           48313           126556               10   \n",
       "YES                     0           72026           180424               26   \n",
       "\n",
       "           Urban  \n",
       "Undergrad         \n",
       "NO             0  \n",
       "YES            1  \n",
       "YES            1  \n",
       "NO             0  \n",
       "YES            0  \n",
       "...          ...  \n",
       "NO             0  \n",
       "YES            1  \n",
       "YES            0  \n",
       "YES            1  \n",
       "YES            0  \n",
       "\n",
       "[480 rows x 5 columns]"
      ]
     },
     "execution_count": 19,
     "metadata": {},
     "output_type": "execute_result"
    }
   ],
   "source": [
    "x_train"
   ]
  },
  {
   "cell_type": "code",
   "execution_count": 20,
   "id": "c286aecd",
   "metadata": {
    "ExecuteTime": {
     "end_time": "2022-05-30T13:51:07.766852Z",
     "start_time": "2022-05-30T13:51:07.734832Z"
    }
   },
   "outputs": [
    {
     "data": {
      "text/html": [
       "<div>\n",
       "<style scoped>\n",
       "    .dataframe tbody tr th:only-of-type {\n",
       "        vertical-align: middle;\n",
       "    }\n",
       "\n",
       "    .dataframe tbody tr th {\n",
       "        vertical-align: top;\n",
       "    }\n",
       "\n",
       "    .dataframe thead th {\n",
       "        text-align: right;\n",
       "    }\n",
       "</style>\n",
       "<table border=\"1\" class=\"dataframe\">\n",
       "  <thead>\n",
       "    <tr style=\"text-align: right;\">\n",
       "      <th></th>\n",
       "      <th>Income</th>\n",
       "    </tr>\n",
       "    <tr>\n",
       "      <th>Undergrad</th>\n",
       "      <th></th>\n",
       "    </tr>\n",
       "  </thead>\n",
       "  <tbody>\n",
       "    <tr>\n",
       "      <th>NO</th>\n",
       "      <td>Risky</td>\n",
       "    </tr>\n",
       "    <tr>\n",
       "      <th>YES</th>\n",
       "      <td>Risky</td>\n",
       "    </tr>\n",
       "    <tr>\n",
       "      <th>YES</th>\n",
       "      <td>Risky</td>\n",
       "    </tr>\n",
       "    <tr>\n",
       "      <th>NO</th>\n",
       "      <td>Good</td>\n",
       "    </tr>\n",
       "    <tr>\n",
       "      <th>YES</th>\n",
       "      <td>Good</td>\n",
       "    </tr>\n",
       "    <tr>\n",
       "      <th>...</th>\n",
       "      <td>...</td>\n",
       "    </tr>\n",
       "    <tr>\n",
       "      <th>NO</th>\n",
       "      <td>Good</td>\n",
       "    </tr>\n",
       "    <tr>\n",
       "      <th>YES</th>\n",
       "      <td>Good</td>\n",
       "    </tr>\n",
       "    <tr>\n",
       "      <th>YES</th>\n",
       "      <td>Good</td>\n",
       "    </tr>\n",
       "    <tr>\n",
       "      <th>YES</th>\n",
       "      <td>Good</td>\n",
       "    </tr>\n",
       "    <tr>\n",
       "      <th>YES</th>\n",
       "      <td>Good</td>\n",
       "    </tr>\n",
       "  </tbody>\n",
       "</table>\n",
       "<p>480 rows × 1 columns</p>\n",
       "</div>"
      ],
      "text/plain": [
       "          Income\n",
       "Undergrad       \n",
       "NO         Risky\n",
       "YES        Risky\n",
       "YES        Risky\n",
       "NO          Good\n",
       "YES         Good\n",
       "...          ...\n",
       "NO          Good\n",
       "YES         Good\n",
       "YES         Good\n",
       "YES         Good\n",
       "YES         Good\n",
       "\n",
       "[480 rows x 1 columns]"
      ]
     },
     "execution_count": 20,
     "metadata": {},
     "output_type": "execute_result"
    }
   ],
   "source": [
    "pd.DataFrame(y_train)"
   ]
  },
  {
   "cell_type": "code",
   "execution_count": 21,
   "id": "3f6427af",
   "metadata": {
    "ExecuteTime": {
     "end_time": "2022-05-30T13:51:07.782845Z",
     "start_time": "2022-05-30T13:51:07.766852Z"
    }
   },
   "outputs": [
    {
     "data": {
      "text/plain": [
       "((120, 5), (120,))"
      ]
     },
     "execution_count": 21,
     "metadata": {},
     "output_type": "execute_result"
    }
   ],
   "source": [
    "x_test.shape, y_test.shape"
   ]
  },
  {
   "cell_type": "markdown",
   "id": "0247a3a8",
   "metadata": {},
   "source": [
    "# Building decision tree classifier using 'Entropy' as a criterion\n"
   ]
  },
  {
   "cell_type": "code",
   "execution_count": 22,
   "id": "7819fd53",
   "metadata": {
    "ExecuteTime": {
     "end_time": "2022-05-30T13:51:07.814854Z",
     "start_time": "2022-05-30T13:51:07.782845Z"
    }
   },
   "outputs": [
    {
     "data": {
      "text/plain": [
       "DecisionTreeClassifier(criterion='entropy', max_depth=3)"
      ]
     },
     "execution_count": 22,
     "metadata": {},
     "output_type": "execute_result"
    }
   ],
   "source": [
    "model1=DecisionTreeClassifier(criterion='entropy', max_depth=3)\n",
    "model1.fit(x_train,y_train)"
   ]
  },
  {
   "cell_type": "code",
   "execution_count": 23,
   "id": "29ecc365",
   "metadata": {
    "ExecuteTime": {
     "end_time": "2022-05-30T13:51:08.190945Z",
     "start_time": "2022-05-30T13:51:07.822855Z"
    }
   },
   "outputs": [
    {
     "data": {
      "text/plain": [
       "[Text(167.4, 163.07999999999998, 'X[1] <= 30055.5\\nentropy = 0.734\\nsamples = 480\\nvalue = [381, 99]'),\n",
       " Text(83.7, 54.360000000000014, 'entropy = 0.0\\nsamples = 99\\nvalue = [0, 99]'),\n",
       " Text(251.10000000000002, 54.360000000000014, 'entropy = 0.0\\nsamples = 381\\nvalue = [381, 0]')]"
      ]
     },
     "execution_count": 23,
     "metadata": {},
     "output_type": "execute_result"
    },
    {
     "data": {
      "image/png": "[encoded data removed]",
      "text/plain": [
       "<Figure size 432x288 with 1 Axes>"
      ]
     },
     "metadata": {
      "needs_background": "light"
     },
     "output_type": "display_data"
    }
   ],
   "source": [
    "#plot the decision tree\n",
    "tree.plot_tree(model1)"
   ]
  },
  {
   "cell_type": "code",
   "execution_count": 24,
   "id": "022b5c92",
   "metadata": {
    "ExecuteTime": {
     "end_time": "2022-05-30T13:51:08.215213Z",
     "start_time": "2022-05-30T13:51:08.190945Z"
    }
   },
   "outputs": [],
   "source": [
    "y_pred_train =model1.predict(x_train)\n",
    "y_pred_test=model1.predict(x_test)"
   ]
  },
  {
   "cell_type": "code",
   "execution_count": 25,
   "id": "dce4c415",
   "metadata": {
    "ExecuteTime": {
     "end_time": "2022-05-30T13:51:08.231218Z",
     "start_time": "2022-05-30T13:51:08.215213Z"
    }
   },
   "outputs": [],
   "source": [
    "from sklearn.metrics import accuracy_score"
   ]
  },
  {
   "cell_type": "code",
   "execution_count": 26,
   "id": "b9f7e6fc",
   "metadata": {
    "ExecuteTime": {
     "end_time": "2022-05-30T13:51:08.255227Z",
     "start_time": "2022-05-30T13:51:08.231218Z"
    }
   },
   "outputs": [
    {
     "data": {
      "text/plain": [
       "1.0"
      ]
     },
     "execution_count": 26,
     "metadata": {},
     "output_type": "execute_result"
    }
   ],
   "source": [
    "accuracy_score(y_train, y_pred_train)"
   ]
  },
  {
   "cell_type": "code",
   "execution_count": 27,
   "id": "38a0d6dc",
   "metadata": {
    "ExecuteTime": {
     "end_time": "2022-05-30T13:51:08.271227Z",
     "start_time": "2022-05-30T13:51:08.255227Z"
    }
   },
   "outputs": [
    {
     "data": {
      "text/plain": [
       "1.0"
      ]
     },
     "execution_count": 27,
     "metadata": {},
     "output_type": "execute_result"
    }
   ],
   "source": [
    "accuracy_score( y_test,y_pred_test)"
   ]
  },
  {
   "cell_type": "markdown",
   "id": "3bf993af",
   "metadata": {},
   "source": [
    "# Building decision tree classifier(CART) using 'gini' as a criterion"
   ]
  },
  {
   "cell_type": "code",
   "execution_count": 28,
   "id": "1ad08827",
   "metadata": {
    "ExecuteTime": {
     "end_time": "2022-05-30T13:51:08.287234Z",
     "start_time": "2022-05-30T13:51:08.271227Z"
    }
   },
   "outputs": [
    {
     "data": {
      "text/plain": [
       "DecisionTreeClassifier(max_depth=3)"
      ]
     },
     "execution_count": 28,
     "metadata": {},
     "output_type": "execute_result"
    }
   ],
   "source": [
    "model2=DecisionTreeClassifier(criterion='gini', max_depth=3)\n",
    "model2.fit(x_train,y_train)"
   ]
  },
  {
   "cell_type": "code",
   "execution_count": 29,
   "id": "d979c2b8",
   "metadata": {
    "ExecuteTime": {
     "end_time": "2022-05-30T13:51:08.631785Z",
     "start_time": "2022-05-30T13:51:08.287234Z"
    }
   },
   "outputs": [
    {
     "data": {
      "text/plain": [
       "[Text(167.4, 163.07999999999998, 'X[1] <= 30055.5\\ngini = 0.327\\nsamples = 480\\nvalue = [381, 99]'),\n",
       " Text(83.7, 54.360000000000014, 'gini = 0.0\\nsamples = 99\\nvalue = [0, 99]'),\n",
       " Text(251.10000000000002, 54.360000000000014, 'gini = 0.0\\nsamples = 381\\nvalue = [381, 0]')]"
      ]
     },
     "execution_count": 29,
     "metadata": {},
     "output_type": "execute_result"
    },
    {
     "data": {
      "image/png": "[encoded data removed]",
      "text/plain": [
       "<Figure size 432x288 with 1 Axes>"
      ]
     },
     "metadata": {
      "needs_background": "light"
     },
     "output_type": "display_data"
    }
   ],
   "source": [
    "tree.plot_tree(model2)"
   ]
  },
  {
   "cell_type": "code",
   "execution_count": 30,
   "id": "f7e61077",
   "metadata": {
    "ExecuteTime": {
     "end_time": "2022-05-30T13:51:08.647847Z",
     "start_time": "2022-05-30T13:51:08.631846Z"
    }
   },
   "outputs": [],
   "source": [
    "y_predict_train =model2.predict(x_train)\n",
    "y_predict_test=model2.predict(x_test)"
   ]
  },
  {
   "cell_type": "code",
   "execution_count": 31,
   "id": "a38def05",
   "metadata": {
    "ExecuteTime": {
     "end_time": "2022-05-30T13:51:08.663852Z",
     "start_time": "2022-05-30T13:51:08.647847Z"
    }
   },
   "outputs": [
    {
     "data": {
      "text/plain": [
       "1.0"
      ]
     },
     "execution_count": 31,
     "metadata": {},
     "output_type": "execute_result"
    }
   ],
   "source": [
    "accuracy_score(y_train, y_pred_train)"
   ]
  },
  {
   "cell_type": "code",
   "execution_count": 32,
   "id": "ed3e4233",
   "metadata": {
    "ExecuteTime": {
     "end_time": "2022-05-30T13:51:08.679855Z",
     "start_time": "2022-05-30T13:51:08.663852Z"
    }
   },
   "outputs": [
    {
     "data": {
      "text/plain": [
       "1.0"
      ]
     },
     "execution_count": 32,
     "metadata": {},
     "output_type": "execute_result"
    }
   ],
   "source": [
    "accuracy_score( y_test,y_pred_test)"
   ]
  },
  {
   "cell_type": "code",
   "execution_count": 33,
   "id": "7beaf9b8",
   "metadata": {
    "ExecuteTime": {
     "end_time": "2022-05-30T13:51:09.087957Z",
     "start_time": "2022-05-30T13:51:08.679855Z"
    }
   },
   "outputs": [
    {
     "data": {
      "image/png": "[encoded data removed]",
      "text/plain": [
       "<Figure size 600x600 with 1 Axes>"
      ]
     },
     "metadata": {
      "needs_background": "light"
     },
     "output_type": "display_data"
    }
   ],
   "source": [
    "fn=['Undergrad','marital_status','Taxable_income','City_populatoin','Work_experience','Urban']\n",
    "cn=['Good','Risky']\n",
    "fig, axes = plt.subplots(nrows = 1,ncols = 1,figsize = (2,2), dpi=300)\n",
    "tree.plot_tree(model2,\n",
    "               feature_names = fn, \n",
    "               class_names=cn,\n",
    "               filled = True);"
   ]
  },
  {
   "cell_type": "code",
   "execution_count": 34,
   "id": "394370d2",
   "metadata": {
    "ExecuteTime": {
     "end_time": "2022-05-30T13:51:09.103965Z",
     "start_time": "2022-05-30T13:51:09.087957Z"
    }
   },
   "outputs": [
    {
     "data": {
      "text/plain": [
       "Good     95\n",
       "Risky    25\n",
       "dtype: int64"
      ]
     },
     "execution_count": 34,
     "metadata": {},
     "output_type": "execute_result"
    }
   ],
   "source": [
    "#predicting on test dataset and getting the count of each category\n",
    "preds=model2.predict(x_test)\n",
    "pd.Series(preds).value_counts()"
   ]
  },
  {
   "cell_type": "code",
   "execution_count": 35,
   "id": "a2dee938",
   "metadata": {
    "ExecuteTime": {
     "end_time": "2022-05-30T13:51:09.119966Z",
     "start_time": "2022-05-30T13:51:09.103965Z"
    }
   },
   "outputs": [
    {
     "data": {
      "text/plain": [
       "array(['Risky', 'Risky', 'Good', 'Good', 'Risky', 'Good', 'Good', 'Risky',\n",
       "       'Risky', 'Good', 'Risky', 'Good', 'Good', 'Good', 'Risky', 'Risky',\n",
       "       'Good', 'Risky', 'Good', 'Good', 'Risky', 'Good', 'Risky', 'Risky',\n",
       "       'Good', 'Good', 'Good', 'Good', 'Risky', 'Good', 'Good', 'Good',\n",
       "       'Good', 'Good', 'Good', 'Good', 'Good', 'Risky', 'Good', 'Good',\n",
       "       'Good', 'Good', 'Good', 'Good', 'Good', 'Good', 'Risky', 'Good',\n",
       "       'Good', 'Good', 'Good', 'Good', 'Risky', 'Good', 'Good', 'Good',\n",
       "       'Good', 'Risky', 'Good', 'Good', 'Good', 'Good', 'Good', 'Good',\n",
       "       'Good', 'Risky', 'Good', 'Good', 'Good', 'Good', 'Good', 'Good',\n",
       "       'Risky', 'Good', 'Good', 'Good', 'Good', 'Good', 'Good', 'Good',\n",
       "       'Good', 'Good', 'Risky', 'Good', 'Good', 'Good', 'Good', 'Good',\n",
       "       'Good', 'Good', 'Good', 'Good', 'Good', 'Good', 'Good', 'Good',\n",
       "       'Good', 'Good', 'Good', 'Good', 'Good', 'Good', 'Good', 'Good',\n",
       "       'Good', 'Risky', 'Risky', 'Good', 'Risky', 'Good', 'Good', 'Good',\n",
       "       'Good', 'Good', 'Good', 'Good', 'Good', 'Risky', 'Good', 'Risky'],\n",
       "      dtype=object)"
      ]
     },
     "execution_count": 35,
     "metadata": {},
     "output_type": "execute_result"
    }
   ],
   "source": [
    "preds"
   ]
  },
  {
   "cell_type": "code",
   "execution_count": 36,
   "id": "86b14168",
   "metadata": {
    "ExecuteTime": {
     "end_time": "2022-05-30T13:51:09.167979Z",
     "start_time": "2022-05-30T13:51:09.119966Z"
    }
   },
   "outputs": [
    {
     "data": {
      "text/html": [
       "<div>\n",
       "<style scoped>\n",
       "    .dataframe tbody tr th:only-of-type {\n",
       "        vertical-align: middle;\n",
       "    }\n",
       "\n",
       "    .dataframe tbody tr th {\n",
       "        vertical-align: top;\n",
       "    }\n",
       "\n",
       "    .dataframe thead th {\n",
       "        text-align: right;\n",
       "    }\n",
       "</style>\n",
       "<table border=\"1\" class=\"dataframe\">\n",
       "  <thead>\n",
       "    <tr style=\"text-align: right;\">\n",
       "      <th>col_0</th>\n",
       "      <th>Good</th>\n",
       "      <th>Risky</th>\n",
       "    </tr>\n",
       "    <tr>\n",
       "      <th>Income</th>\n",
       "      <th></th>\n",
       "      <th></th>\n",
       "    </tr>\n",
       "  </thead>\n",
       "  <tbody>\n",
       "    <tr>\n",
       "      <th>Good</th>\n",
       "      <td>95</td>\n",
       "      <td>0</td>\n",
       "    </tr>\n",
       "    <tr>\n",
       "      <th>Risky</th>\n",
       "      <td>0</td>\n",
       "      <td>25</td>\n",
       "    </tr>\n",
       "  </tbody>\n",
       "</table>\n",
       "</div>"
      ],
      "text/plain": [
       "col_0   Good  Risky\n",
       "Income             \n",
       "Good      95      0\n",
       "Risky      0     25"
      ]
     },
     "execution_count": 36,
     "metadata": {},
     "output_type": "execute_result"
    }
   ],
   "source": [
    "pd.crosstab(y_test,preds)"
   ]
  },
  {
   "cell_type": "markdown",
   "id": "af28fd43",
   "metadata": {},
   "source": [
    "# Infernce:\n",
    "There are no misclassification by model, as we have less data"
   ]
  },
  {
   "cell_type": "code",
   "execution_count": 37,
   "id": "715d038f",
   "metadata": {
    "ExecuteTime": {
     "end_time": "2022-05-30T13:51:09.183986Z",
     "start_time": "2022-05-30T13:51:09.167979Z"
    }
   },
   "outputs": [
    {
     "data": {
      "text/plain": [
       "1.0"
      ]
     },
     "execution_count": 37,
     "metadata": {},
     "output_type": "execute_result"
    }
   ],
   "source": [
    "#Accuracy\n",
    "np.mean(preds==y_test)"
   ]
  },
  {
   "cell_type": "markdown",
   "id": "fbb76379",
   "metadata": {},
   "source": [
    "# Inference:\n",
    "By using both the criterions 'Entropy' and 'gini' we got the same accuracy for training and testing data"
   ]
  },
  {
   "cell_type": "markdown",
   "id": "fd91252d",
   "metadata": {},
   "source": [
    "# Ensamble Technique:\n",
    "Ensemble methods, which combines several decision trees to produce better predictive performance than utilizing a single decision tree.\n",
    "\n",
    "Bagging- is to reduce the variance of a decision tree\n",
    "Boosting- to make a collection of predictors."
   ]
  },
  {
   "cell_type": "code",
   "execution_count": 38,
   "id": "ad3dd360",
   "metadata": {
    "ExecuteTime": {
     "end_time": "2022-05-30T13:51:09.199986Z",
     "start_time": "2022-05-30T13:51:09.183986Z"
    }
   },
   "outputs": [],
   "source": [
    "from sklearn.model_selection import KFold , cross_val_score\n",
    "kfold=KFold(n_splits=10)"
   ]
  },
  {
   "cell_type": "code",
   "execution_count": 39,
   "id": "50954743",
   "metadata": {
    "ExecuteTime": {
     "end_time": "2022-05-30T13:51:09.864610Z",
     "start_time": "2022-05-30T13:51:09.199986Z"
    }
   },
   "outputs": [],
   "source": [
    "from sklearn.ensemble import BaggingClassifier \n",
    "cart=DecisionTreeClassifier(criterion='entropy')\n",
    "bagging_model=BaggingClassifier(base_estimator=cart,n_estimators=10,random_state=7)\n",
    "bag_results= cross_val_score(bagging_model,x,y,cv=kfold)\n",
    "\n",
    "bag_results_1 = cross_val_score(bagging_model,x_train ,y_train,cv=kfold)"
   ]
  },
  {
   "cell_type": "code",
   "execution_count": 40,
   "id": "e0967553",
   "metadata": {
    "ExecuteTime": {
     "end_time": "2022-05-30T13:51:09.881010Z",
     "start_time": "2022-05-30T13:51:09.864610Z"
    }
   },
   "outputs": [
    {
     "name": "stdout",
     "output_type": "stream",
     "text": [
      "0.9983333333333334\n"
     ]
    }
   ],
   "source": [
    "print(bag_results.mean())#full data"
   ]
  },
  {
   "cell_type": "code",
   "execution_count": 41,
   "id": "5f2e7334",
   "metadata": {
    "ExecuteTime": {
     "end_time": "2022-05-30T13:51:09.897015Z",
     "start_time": "2022-05-30T13:51:09.881010Z"
    }
   },
   "outputs": [
    {
     "name": "stdout",
     "output_type": "stream",
     "text": [
      "0.9979166666666666\n"
     ]
    }
   ],
   "source": [
    "print(bag_results_1.mean())#split data"
   ]
  },
  {
   "cell_type": "markdown",
   "id": "b91e06a3",
   "metadata": {},
   "source": [
    "# Observation:\n",
    "As we can see that the model has learned data in a better way as it has not done any misclassifications, and we got 99% accuracy for both training and testing data,Due to less data provision"
   ]
  }
 ],
 "metadata": {
  "kernelspec": {
   "display_name": "Python 3",
   "language": "python",
   "name": "python3"
  },
  "language_info": {
   "codemirror_mode": {
    "name": "ipython",
    "version": 3
   },
   "file_extension": ".py",
   "mimetype": "text/x-python",
   "name": "python",
   "nbconvert_exporter": "python",
   "pygments_lexer": "ipython3",
   "version": "3.8.8"
  }
 },
 "nbformat": 4,
 "nbformat_minor": 5
}
